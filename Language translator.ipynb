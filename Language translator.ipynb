{
 "cells": [
  {
   "cell_type": "markdown",
   "metadata": {},
   "source": [
    "# LANGUAGE TRANSLATOR"
   ]
  },
  {
   "cell_type": "markdown",
   "metadata": {},
   "source": [
    "## Importing Libraries"
   ]
  },
  {
   "cell_type": "code",
   "execution_count": 1008,
   "metadata": {},
   "outputs": [],
   "source": [
    "from tkinter import *\n",
    "from tkinter import ttk,messagebox\n",
    "import googletrans\n",
    "from googletrans import Translator\n",
    "from PIL import Image, ImageTk, ImageEnhance"
   ]
  },
  {
   "cell_type": "markdown",
   "metadata": {},
   "source": [
    "## Creating Python GUI"
   ]
  },
  {
   "cell_type": "markdown",
   "metadata": {},
   "source": [
    "### Root "
   ]
  },
  {
   "cell_type": "code",
   "execution_count": 1009,
   "metadata": {},
   "outputs": [
    {
     "data": {
      "text/plain": [
       "''"
      ]
     },
     "execution_count": 1009,
     "metadata": {},
     "output_type": "execute_result"
    }
   ],
   "source": [
    "root =Tk()\n",
    "root.title(\"LANGUAGE TRANSLATOR\")\n",
    "root.geometry(\"1080x400\")\n",
    "root.resizable(0,0)"
   ]
  },
  {
   "cell_type": "markdown",
   "metadata": {},
   "source": [
    "### Background Image"
   ]
  },
  {
   "cell_type": "markdown",
   "metadata": {},
   "source": [
    "Function to reduce opacity"
   ]
  },
  {
   "cell_type": "code",
   "execution_count": 1010,
   "metadata": {},
   "outputs": [],
   "source": [
    "def reduce_opacity(img, opacity):\n",
    "    assert opacity >= 0 and opacity <= 1\n",
    "    alpha = img.split()[3]\n",
    "    alpha = ImageEnhance.Brightness(alpha).enhance(opacity)\n",
    "    img.putalpha(alpha)\n",
    "    return img"
   ]
  },
  {
   "cell_type": "code",
   "execution_count": 1011,
   "metadata": {},
   "outputs": [],
   "source": [
    "bg_image = Image.open(r\"C:/Users/vivek/OneDrive/Desktop/DATA SCIENCE PROJECTS/LANGUAGE TRANSLATOR/wallpaper.jpeg\").convert(\"RGBA\")\n",
    "bg_image = bg_image.resize((1080, 400), Image.LANCZOS)\n",
    "bg_image = reduce_opacity(bg_image, 0.5)  # Adjust opacity (0.0 to 1.0)\n",
    "bg_image_tk = ImageTk.PhotoImage(bg_image)\n",
    "\n",
    "bg_label = Label(root, image=bg_image_tk)\n",
    "bg_label.place(x=0, y=0, relwidth=1, relheight=1)"
   ]
  },
  {
   "cell_type": "markdown",
   "metadata": {},
   "source": [
    "### Icon Image in root"
   ]
  },
  {
   "cell_type": "code",
   "execution_count": 1012,
   "metadata": {},
   "outputs": [],
   "source": [
    "image_icon=PhotoImage(file=\"Icon.png\")\n",
    "root.iconphoto(False,image_icon)"
   ]
  },
  {
   "cell_type": "markdown",
   "metadata": {},
   "source": [
    "### Loading Languages from Googletrans Library"
   ]
  },
  {
   "cell_type": "code",
   "execution_count": 1013,
   "metadata": {},
   "outputs": [],
   "source": [
    "language=googletrans.LANGUAGES\n",
    "languageV=list(language.values())\n",
    "lang1=language.keys()"
   ]
  },
  {
   "cell_type": "markdown",
   "metadata": {},
   "source": [
    "### Combobox 1 "
   ]
  },
  {
   "cell_type": "code",
   "execution_count": 1014,
   "metadata": {},
   "outputs": [
    {
     "data": {
      "text/plain": [
       "{}"
      ]
     },
     "execution_count": 1014,
     "metadata": {},
     "output_type": "execute_result"
    }
   ],
   "source": [
    "style=ttk.Style()\n",
    "style.theme_use('clam')\n",
    "style.configure(\"TCombobox\",fieldbackground=\"#0a0c48\",background=\"#0a0c48\",foreground=\"white\",arrowcolor=\"white\")\n",
    "style.map(\"TCombobox\",fieldbackground=[('readonly','#0a0c48')], background=[('active','#0a0c48')],foreground= [('readonly','white')], highlightcolor=[('focus','#0a0c48')])"
   ]
  },
  {
   "cell_type": "markdown",
   "metadata": {},
   "source": [
    "(For choosing Language)"
   ]
  },
  {
   "cell_type": "code",
   "execution_count": 1015,
   "metadata": {},
   "outputs": [],
   "source": [
    "combo1=ttk.Combobox(root, values=languageV,font=\"Robot 14\",state=\"r\")\n",
    "combo1.place(x=110,y=20)\n",
    "combo1.set(\"ENGLISH\")"
   ]
  },
  {
   "cell_type": "markdown",
   "metadata": {},
   "source": [
    "### Combobox 2"
   ]
  },
  {
   "cell_type": "markdown",
   "metadata": {},
   "source": [
    "(For choosing Language)"
   ]
  },
  {
   "cell_type": "code",
   "execution_count": 1016,
   "metadata": {},
   "outputs": [],
   "source": [
    "combo2=ttk.Combobox(root, values=languageV, font=\"RobotV 14\", state=\"r\")\n",
    "combo2.place(x=720,y=20)\n",
    "combo2.set(\"SELECT LANGUAGE\")"
   ]
  },
  {
   "cell_type": "markdown",
   "metadata": {},
   "source": [
    "### Labels for Selected Languages"
   ]
  },
  {
   "cell_type": "markdown",
   "metadata": {},
   "source": [
    "Label 1"
   ]
  },
  {
   "cell_type": "code",
   "execution_count": 1017,
   "metadata": {},
   "outputs": [],
   "source": [
    "label1=Label(root,text=\"ENGLISH\", font=\"Segoe 20 bold\",bg=\"#a1e8f2\",width=18,bd=5,fg='black',relief=GROOVE)\n",
    "label1.place(x=70,y=70)"
   ]
  },
  {
   "cell_type": "markdown",
   "metadata": {},
   "source": [
    "Label 2"
   ]
  },
  {
   "cell_type": "code",
   "execution_count": 1018,
   "metadata": {},
   "outputs": [],
   "source": [
    "label2=Label(root,text=\"ENGLISH\", font=\"segoe 20 bold\", bg=\"#a1e8f2\", width=18,bd=5,fg='black',relief=GROOVE)\n",
    "label2.place(x=680,y=70)"
   ]
  },
  {
   "cell_type": "markdown",
   "metadata": {},
   "source": [
    "### Frames for Text"
   ]
  },
  {
   "cell_type": "markdown",
   "metadata": {},
   "source": [
    "Frame 1"
   ]
  },
  {
   "cell_type": "code",
   "execution_count": 1019,
   "metadata": {},
   "outputs": [],
   "source": [
    "f=Frame(root,bg=\"white\",bd=5)\n",
    "f.place(x=10,y=130,width=440,height=210)\n",
    "\n",
    "text1=Text(f, font=\"Roboto 14\", bg=\"#0a0c48\",fg='white', relief=GROOVE,wrap=WORD)\n",
    "text1.place(x=0,y=0,width=430,height=200)\n",
    "\n",
    "scrollbar1=Scrollbar(f)\n",
    "scrollbar1.pack(side=\"right\",fill=\"y\")\n",
    "\n",
    "scrollbar1.configure(command=text1.yview)\n",
    "text1.configure(yscrollcommand=scrollbar1.set)"
   ]
  },
  {
   "cell_type": "markdown",
   "metadata": {},
   "source": [
    "Frame 2"
   ]
  },
  {
   "cell_type": "code",
   "execution_count": 1020,
   "metadata": {},
   "outputs": [],
   "source": [
    "f1=Frame(root,bg=\"white\",bd=5)\n",
    "f1.place(x=620,y=130,width=440,height=210)\n",
    "\n",
    "text2=Text(f1, font=\"Roboto 14\", bg=\"#0a0c48\",fg='white',relief=GROOVE,wrap=WORD)\n",
    "text2.place(x=0,y=0,width=430,height=200)\n",
    "\n",
    "scrollbar2=Scrollbar(f1)\n",
    "scrollbar2.pack(side=\"right\",fill=\"y\")\n",
    "\n",
    "scrollbar2.configure(command=text2.yview)\n",
    "text2.configure(yscrollcommand=scrollbar2.set)"
   ]
  },
  {
   "cell_type": "markdown",
   "metadata": {},
   "source": [
    "### Conversion Image"
   ]
  },
  {
   "cell_type": "code",
   "execution_count": 1021,
   "metadata": {},
   "outputs": [],
   "source": [
    "arrow_image=PhotoImage(file=\"Arrow.png\")\n",
    "image_label=Label(root,image=arrow_image,bg=None,width=150)\n",
    "image_label.place(x=460,y=150)"
   ]
  },
  {
   "cell_type": "markdown",
   "metadata": {},
   "source": [
    "### Fuction for Language Label Change"
   ]
  },
  {
   "cell_type": "code",
   "execution_count": 1022,
   "metadata": {},
   "outputs": [],
   "source": [
    "def label_change():\n",
    "    c=combo1.get()\n",
    "    c1=combo2.get()\n",
    "    label1.configure(text=c)\n",
    "    label2.configure(text=c1)\n",
    "    root.after(1000,label_change)"
   ]
  },
  {
   "cell_type": "markdown",
   "metadata": {},
   "source": [
    "### Function for Translation"
   ]
  },
  {
   "cell_type": "code",
   "execution_count": 1023,
   "metadata": {},
   "outputs": [],
   "source": [
    "def translate_now():\n",
    "    text_=text1.get(1.0,END)\n",
    "    t1=Translator()\n",
    "    trans_text=t1.translate(text_,src=combo1.get(),dest=combo2.get())\n",
    "    trans_text=trans_text.text \n",
    "\n",
    "    text2.delete(1.0,END)\n",
    "    text2.insert(END,trans_text)"
   ]
  },
  {
   "cell_type": "markdown",
   "metadata": {},
   "source": [
    "### Translate Button"
   ]
  },
  {
   "cell_type": "code",
   "execution_count": 1024,
   "metadata": {},
   "outputs": [],
   "source": [
    "translate=Button(root,text=\"Translate\",font=\"Roboto 15 bold italic\",activebackground=\"purple\",cursor=\"hand2\",bd=5,bg=\"red\",fg=\"white\",command=translate_now)\n",
    "translate.place(x=480,y=300)"
   ]
  },
  {
   "cell_type": "markdown",
   "metadata": {},
   "source": [
    "### Final Command"
   ]
  },
  {
   "cell_type": "code",
   "execution_count": 1025,
   "metadata": {},
   "outputs": [],
   "source": [
    "label_change()\n",
    "root.mainloop()"
   ]
  }
 ],
 "metadata": {
  "kernelspec": {
   "display_name": "Python 3",
   "language": "python",
   "name": "python3"
  },
  "language_info": {
   "codemirror_mode": {
    "name": "ipython",
    "version": 3
   },
   "file_extension": ".py",
   "mimetype": "text/x-python",
   "name": "python",
   "nbconvert_exporter": "python",
   "pygments_lexer": "ipython3",
   "version": "3.12.4"
  }
 },
 "nbformat": 4,
 "nbformat_minor": 2
}
